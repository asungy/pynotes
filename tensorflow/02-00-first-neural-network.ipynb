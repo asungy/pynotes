{
 "cells": [
  {
   "cell_type": "code",
   "execution_count": 1,
   "id": "d26a9a03",
   "metadata": {},
   "outputs": [],
   "source": [
    "import tensorflow as tf\n",
    "from tensorflow import keras\n",
    "from tensorflow.keras import layers"
   ]
  },
  {
   "cell_type": "markdown",
   "id": "0132d9a4",
   "metadata": {},
   "source": [
    "# The MNIST Dataset\n",
    "We'll start building our first neural network with the MNIST dataset. The MNIST dataset contains 70,000 labeled images of handwritten digits. The goal of our neural network is to train it to discern handwritten digits as accurately as possible.\n",
    "\n",
    "In machine learning, you want to break your data into two sets: training data and testing data. Neural networks learn by consuming training data and adjust their network accordingly to more accurately detect the next piece of data. After you train your network, you'll want to assess its accuracy on data is has not seen before. This is where the test data comes handy. Rather than consuming and tuning, the network will simply consume test data and report its accuracy. This gives an idea of how it would perform under general circumstances.\n",
    "\n",
    "Let's go ahead and load the MNIST dataset:"
   ]
  },
  {
   "cell_type": "code",
   "execution_count": 2,
   "id": "6db2957e",
   "metadata": {},
   "outputs": [
    {
     "name": "stdout",
     "output_type": "stream",
     "text": [
      "Downloading data from https://storage.googleapis.com/tensorflow/tf-keras-datasets/mnist.npz\n",
      "11493376/11490434 [==============================] - 4s 0us/step\n"
     ]
    }
   ],
   "source": [
    "# Load MNIST dataset\n",
    "(x_train, y_train), (x_test, y_test) = tf.keras.datasets.mnist.load_data()"
   ]
  },
  {
   "cell_type": "markdown",
   "id": "eac690a3",
   "metadata": {},
   "source": [
    "## Exploring The Data\n",
    "Let's get a better idea of what the data looks like by printing out the shape of both the training and testing data:"
   ]
  },
  {
   "cell_type": "code",
   "execution_count": 3,
   "id": "ea9834d2",
   "metadata": {},
   "outputs": [
    {
     "name": "stdout",
     "output_type": "stream",
     "text": [
      "x_train shape:  (60000, 28, 28)\n",
      "y_train shape:  (60000,)\n",
      "x_test shape:  (10000, 28, 28)\n",
      "y_test shape:  (10000,)\n"
     ]
    }
   ],
   "source": [
    "print(\"x_train shape: \", x_train.shape)\n",
    "print(\"y_train shape: \", y_train.shape)\n",
    "print(\"x_test shape: \", x_test.shape)\n",
    "print(\"y_test shape: \", y_test.shape)"
   ]
  },
  {
   "cell_type": "markdown",
   "id": "6f15ab1e",
   "metadata": {},
   "source": [
    "The shape of the data tells us a few things. First, we can see that there are 60,000 training images and 10,000 testing images. We can gather that the images are 28 pixels wide by 28 pixels long and that `y_train` and `y_test` contain label data. Let's double check to make sure our assumptions are true.\n",
    "\n",
    "Let's print out the first piece of data from `x_train` and see what we get:"
   ]
  },
  {
   "cell_type": "code",
   "execution_count": 4,
   "id": "4cb49ef7",
   "metadata": {
    "scrolled": true
   },
   "outputs": [
    {
     "name": "stdout",
     "output_type": "stream",
     "text": [
      "[[  0   0   0   0   0   0   0   0   0   0   0   0   0   0   0   0   0   0\n",
      "    0   0   0   0   0   0   0   0   0   0]\n",
      " [  0   0   0   0   0   0   0   0   0   0   0   0   0   0   0   0   0   0\n",
      "    0   0   0   0   0   0   0   0   0   0]\n",
      " [  0   0   0   0   0   0   0   0   0   0   0   0   0   0   0   0   0   0\n",
      "    0   0   0   0   0   0   0   0   0   0]\n",
      " [  0   0   0   0   0   0   0   0   0   0   0   0   0   0   0   0   0   0\n",
      "    0   0   0   0   0   0   0   0   0   0]\n",
      " [  0   0   0   0   0   0   0   0   0   0   0   0   0   0   0   0   0   0\n",
      "    0   0   0   0   0   0   0   0   0   0]\n",
      " [  0   0   0   0   0   0   0   0   0   0   0   0   3  18  18  18 126 136\n",
      "  175  26 166 255 247 127   0   0   0   0]\n",
      " [  0   0   0   0   0   0   0   0  30  36  94 154 170 253 253 253 253 253\n",
      "  225 172 253 242 195  64   0   0   0   0]\n",
      " [  0   0   0   0   0   0   0  49 238 253 253 253 253 253 253 253 253 251\n",
      "   93  82  82  56  39   0   0   0   0   0]\n",
      " [  0   0   0   0   0   0   0  18 219 253 253 253 253 253 198 182 247 241\n",
      "    0   0   0   0   0   0   0   0   0   0]\n",
      " [  0   0   0   0   0   0   0   0  80 156 107 253 253 205  11   0  43 154\n",
      "    0   0   0   0   0   0   0   0   0   0]\n",
      " [  0   0   0   0   0   0   0   0   0  14   1 154 253  90   0   0   0   0\n",
      "    0   0   0   0   0   0   0   0   0   0]\n",
      " [  0   0   0   0   0   0   0   0   0   0   0 139 253 190   2   0   0   0\n",
      "    0   0   0   0   0   0   0   0   0   0]\n",
      " [  0   0   0   0   0   0   0   0   0   0   0  11 190 253  70   0   0   0\n",
      "    0   0   0   0   0   0   0   0   0   0]\n",
      " [  0   0   0   0   0   0   0   0   0   0   0   0  35 241 225 160 108   1\n",
      "    0   0   0   0   0   0   0   0   0   0]\n",
      " [  0   0   0   0   0   0   0   0   0   0   0   0   0  81 240 253 253 119\n",
      "   25   0   0   0   0   0   0   0   0   0]\n",
      " [  0   0   0   0   0   0   0   0   0   0   0   0   0   0  45 186 253 253\n",
      "  150  27   0   0   0   0   0   0   0   0]\n",
      " [  0   0   0   0   0   0   0   0   0   0   0   0   0   0   0  16  93 252\n",
      "  253 187   0   0   0   0   0   0   0   0]\n",
      " [  0   0   0   0   0   0   0   0   0   0   0   0   0   0   0   0   0 249\n",
      "  253 249  64   0   0   0   0   0   0   0]\n",
      " [  0   0   0   0   0   0   0   0   0   0   0   0   0   0  46 130 183 253\n",
      "  253 207   2   0   0   0   0   0   0   0]\n",
      " [  0   0   0   0   0   0   0   0   0   0   0   0  39 148 229 253 253 253\n",
      "  250 182   0   0   0   0   0   0   0   0]\n",
      " [  0   0   0   0   0   0   0   0   0   0  24 114 221 253 253 253 253 201\n",
      "   78   0   0   0   0   0   0   0   0   0]\n",
      " [  0   0   0   0   0   0   0   0  23  66 213 253 253 253 253 198  81   2\n",
      "    0   0   0   0   0   0   0   0   0   0]\n",
      " [  0   0   0   0   0   0  18 171 219 253 253 253 253 195  80   9   0   0\n",
      "    0   0   0   0   0   0   0   0   0   0]\n",
      " [  0   0   0   0  55 172 226 253 253 253 253 244 133  11   0   0   0   0\n",
      "    0   0   0   0   0   0   0   0   0   0]\n",
      " [  0   0   0   0 136 253 253 253 212 135 132  16   0   0   0   0   0   0\n",
      "    0   0   0   0   0   0   0   0   0   0]\n",
      " [  0   0   0   0   0   0   0   0   0   0   0   0   0   0   0   0   0   0\n",
      "    0   0   0   0   0   0   0   0   0   0]\n",
      " [  0   0   0   0   0   0   0   0   0   0   0   0   0   0   0   0   0   0\n",
      "    0   0   0   0   0   0   0   0   0   0]\n",
      " [  0   0   0   0   0   0   0   0   0   0   0   0   0   0   0   0   0   0\n",
      "    0   0   0   0   0   0   0   0   0   0]]\n"
     ]
    }
   ],
   "source": [
    "print(x_train[0])"
   ]
  },
  {
   "cell_type": "markdown",
   "id": "2d550968",
   "metadata": {},
   "source": [
    "If you take a glance at the data, you can see you have values ranging from 0 to about 250. We can take a pretty confident guess that this is 8-bit pixel data (with the max pixel value being $2^8-1 = 255$). We're going to assume that the test data is similar as well, but feel free to double-check for your own sanity's sake.\n",
    "\n",
    "Now, let's print out the first piece of data from `y_train`:"
   ]
  },
  {
   "cell_type": "code",
   "execution_count": 5,
   "id": "f408c687",
   "metadata": {},
   "outputs": [
    {
     "name": "stdout",
     "output_type": "stream",
     "text": [
      "5\n"
     ]
    }
   ],
   "source": [
    "print(y_train[0])"
   ]
  },
  {
   "cell_type": "markdown",
   "id": "62dd9ef1",
   "metadata": {},
   "source": [
    "Hmm. `5` doesn't really give us much to go on, so let's instead print the minimum and maximum values of `y_train`:"
   ]
  },
  {
   "cell_type": "code",
   "execution_count": 6,
   "id": "1f2c41a0",
   "metadata": {},
   "outputs": [
    {
     "name": "stdout",
     "output_type": "stream",
     "text": [
      "Maximum value:  9\n",
      "Minimum value:  0\n"
     ]
    }
   ],
   "source": [
    "print(\"Maximum value: \", max(y_train))\n",
    "print(\"Minimum value: \", min(y_train))"
   ]
  },
  {
   "cell_type": "markdown",
   "id": "b9adbf74",
   "metadata": {},
   "source": [
    "It looks like we have 10 different labels, which makes sense because there's only 10 digits in our base-10 notation.\n",
    "\n",
    "We played a little dumb in this section for the sake of exploration. We didn't have to do as much digging as we did and could instead have deduced most of this information by the shape of the dataset alone. But I always err on the side of double checking your assumptions.\n",
    "\n",
    "For clarity, let's name our datasets something a little more verbose:"
   ]
  },
  {
   "cell_type": "code",
   "execution_count": 7,
   "id": "57243d04",
   "metadata": {},
   "outputs": [],
   "source": [
    "# Aliasing the test data\n",
    "training_images = x_train\n",
    "training_labels = y_train\n",
    "test_images = x_test\n",
    "test_labels = y_test"
   ]
  },
  {
   "cell_type": "markdown",
   "id": "7bfb9723",
   "metadata": {},
   "source": [
    "## Displaying The Data\n",
    "This step isn't necessary in the machine learning pipeline. Our neural network doesn't need to \"see\" our data perse, but it definitely helps us understand our data a little better."
   ]
  },
  {
   "cell_type": "code",
   "execution_count": 8,
   "id": "ff9c7fa9",
   "metadata": {},
   "outputs": [],
   "source": [
    "%matplotlib inline\n",
    "import matplotlib.pyplot as plt"
   ]
  },
  {
   "cell_type": "markdown",
   "id": "9211c332",
   "metadata": {},
   "source": [
    "After importing `matplotlib`, we can display the data. Let's do the first five training images:"
   ]
  },
  {
   "cell_type": "code",
   "execution_count": 9,
   "id": "386580b8",
   "metadata": {},
   "outputs": [
    {
     "data": {
      "text/plain": [
       "Text(0.5, 1.0, 'training_images[4]')"
      ]
     },
     "execution_count": 9,
     "metadata": {},
     "output_type": "execute_result"
    },
    {
     "data": {
      "image/png": "[encoded data removed]",
      "text/plain": [
       "<Figure size 1332x756 with 5 Axes>"
      ]
     },
     "metadata": {
      "needs_background": "light"
     },
     "output_type": "display_data"
    }
   ],
   "source": [
    "# Displaying first five images\n",
    "fig, axs = plt.subplots(1, 5)\n",
    "fig.set_size_inches(18.5, 10.5)\n",
    "axs[0].imshow(training_images[0, :, :])\n",
    "axs[0].set_title(\"training_images[0]\")\n",
    "axs[1].imshow(training_images[1, :, :])\n",
    "axs[1].set_title(\"training_images[1]\")\n",
    "axs[2].imshow(training_images[2, :, :])\n",
    "axs[2].set_title(\"training_images[2]\")\n",
    "axs[3].imshow(training_images[3, :, :])\n",
    "axs[3].set_title(\"training_images[3]\")\n",
    "axs[4].imshow(training_images[4, :, :])\n",
    "axs[4].set_title(\"training_images[4]\")"
   ]
  },
  {
   "cell_type": "markdown",
   "id": "f7546584",
   "metadata": {},
   "source": [
    "And we can see this matches up with the label data:"
   ]
  },
  {
   "cell_type": "code",
   "execution_count": 10,
   "id": "853bafe5",
   "metadata": {},
   "outputs": [
    {
     "name": "stdout",
     "output_type": "stream",
     "text": [
      "[5 0 4 1 9]\n"
     ]
    }
   ],
   "source": [
    "print(training_labels[:5])"
   ]
  },
  {
   "cell_type": "markdown",
   "id": "39611cba",
   "metadata": {},
   "source": [
    "## Data Prepping\n",
    "Before we get into constructing and training the neural network, we need to prepare our data for consumption.\n",
    "\n",
    "First we're going to reshape the image data by flattening it:"
   ]
  },
  {
   "cell_type": "code",
   "execution_count": 11,
   "id": "6c56e644",
   "metadata": {},
   "outputs": [],
   "source": [
    "# Flattening the image data\n",
    "training_images = tf.reshape(x_train, [-1, 28*28])\n",
    "test_images = tf.reshape(x_test, [-1, 28*28])"
   ]
  },
  {
   "cell_type": "markdown",
   "id": "5491ed6c",
   "metadata": {},
   "source": [
    "Just to make sure, let's print out one of these images to make sure we reshaped them okay. They won't display because the pixel data is now in a single vector, but we can take just one image and reshape it back to its original 28x28 dimension:"
   ]
  },
  {
   "cell_type": "code",
   "execution_count": 12,
   "id": "b4a6610f",
   "metadata": {},
   "outputs": [
    {
     "data": {
      "text/plain": [
       "<matplotlib.image.AxesImage at 0x7f8d00979790>"
      ]
     },
     "execution_count": 12,
     "metadata": {},
     "output_type": "execute_result"
    },
    {
     "data": {
      "image/png": "[encoded data removed]",
      "text/plain": [
       "<Figure size 432x288 with 1 Axes>"
      ]
     },
     "metadata": {
      "needs_background": "light"
     },
     "output_type": "display_data"
    }
   ],
   "source": [
    "plt.imshow(tf.reshape(training_images[42], [28, 28]))"
   ]
  },
  {
   "cell_type": "markdown",
   "id": "abf2e347",
   "metadata": {},
   "source": [
    "Looks pretty good to me. I'm assuming the `-1` in the `reshape` parameter is used to flatten whatever wasn't specified in the shape. For example, if we run `tf.reshape(x_train, [28, -1, 4])`, I'm expecting we will get a tensor shape of (28, 7\\*60000, 4). Feel free to run it yourself to check.\n",
    "\n",
    "We're not quite done yet. We still have to normalize the data to values between 0 and 1. Since our values are `uint8`, we're going to have to cast them as floats before normalizing them:"
   ]
  },
  {
   "cell_type": "code",
   "execution_count": 13,
   "id": "cfe96992",
   "metadata": {},
   "outputs": [],
   "source": [
    "# Normalize image data\n",
    "training_images = tf.dtypes.cast(training_images, tf.float32) / 255.0\n",
    "test_images = tf.dtypes.cast(test_images, tf.float32) / 255.0"
   ]
  },
  {
   "cell_type": "markdown",
   "id": "f5399d29",
   "metadata": {},
   "source": [
    "Now our data should be good to go 👍"
   ]
  },
  {
   "cell_type": "markdown",
   "id": "a90b8d80",
   "metadata": {},
   "source": [
    "# The Neural Network\n",
    "Finally, we're going to construct the neural network. We're going to ignore a few minor implementation details, but after we have it running, it should be pretty intuitive what is going on.\n",
    "\n",
    "Let's create the structure of the network:"
   ]
  },
  {
   "cell_type": "code",
   "execution_count": 14,
   "id": "4b6dd319",
   "metadata": {},
   "outputs": [],
   "source": [
    "# Constructing the model\n",
    "model = keras.Sequential([\n",
    "    layers.Dense(512, activation='relu'),\n",
    "    layers.Dense(256, activation='relu'),\n",
    "    layers.Dense(10),\n",
    "])"
   ]
  },
  {
   "cell_type": "markdown",
   "id": "e45f66c6",
   "metadata": {},
   "source": [
    "Our network consists of three layers, including an output layer. The first layer has 512 nodes and the second has 256 nodes. The output layer has only 10 nodes which will denote the confidence values that a particular image is a certain digit.\n",
    "\n",
    "Now, we're going to compile the model:"
   ]
  },
  {
   "cell_type": "code",
   "execution_count": 15,
   "id": "bb69a145",
   "metadata": {},
   "outputs": [],
   "source": [
    "# Compile the model\n",
    "model.compile(\n",
    "    loss=keras.losses.SparseCategoricalCrossentropy(from_logits=True),\n",
    "    optimizer=keras.optimizers.Adam(lr=0.001),\n",
    "    metrics=[\"accuracy\"],\n",
    ")"
   ]
  },
  {
   "cell_type": "markdown",
   "id": "9f8869a9",
   "metadata": {},
   "source": [
    "Finally, we can train the network:"
   ]
  },
  {
   "cell_type": "code",
   "execution_count": 16,
   "id": "9019ee62",
   "metadata": {},
   "outputs": [
    {
     "name": "stdout",
     "output_type": "stream",
     "text": [
      "Epoch 1/5\n",
      "1875/1875 - 3s - loss: 0.1858 - accuracy: 0.9437\n",
      "Epoch 2/5\n",
      "1875/1875 - 2s - loss: 0.0796 - accuracy: 0.9752\n",
      "Epoch 3/5\n",
      "1875/1875 - 2s - loss: 0.0544 - accuracy: 0.9823\n",
      "Epoch 4/5\n",
      "1875/1875 - 2s - loss: 0.0410 - accuracy: 0.9872\n",
      "Epoch 5/5\n",
      "1875/1875 - 3s - loss: 0.0310 - accuracy: 0.9898\n"
     ]
    },
    {
     "data": {
      "text/plain": [
       "<tensorflow.python.keras.callbacks.History at 0x7f8d007e0d60>"
      ]
     },
     "execution_count": 16,
     "metadata": {},
     "output_type": "execute_result"
    }
   ],
   "source": [
    "# Train the model\n",
    "model.fit(training_images, training_labels, batch_size=32, epochs=5, verbose=2)"
   ]
  },
  {
   "cell_type": "markdown",
   "id": "6dda9c68",
   "metadata": {},
   "source": [
    "Our next step is to test how well our network performs on data it has never seen before. This is where our test set comes in handy:"
   ]
  },
  {
   "cell_type": "code",
   "execution_count": 17,
   "id": "f047933f",
   "metadata": {},
   "outputs": [
    {
     "name": "stdout",
     "output_type": "stream",
     "text": [
      "313/313 - 0s - loss: 0.0884 - accuracy: 0.9779\n"
     ]
    },
    {
     "data": {
      "text/plain": [
       "[0.08842284232378006, 0.9779000282287598]"
      ]
     },
     "execution_count": 17,
     "metadata": {},
     "output_type": "execute_result"
    }
   ],
   "source": [
    "# Evaluate model's performance\n",
    "model.evaluate(test_images, test_labels, batch_size=32, verbose=2)"
   ]
  },
  {
   "cell_type": "markdown",
   "id": "812f6f06",
   "metadata": {},
   "source": [
    "Running the evaluation, you'll get roughly about a 97% to 98% accuracy, which is pretty good. Note that the accuracy during evaluation might be a little lower than the accuracy at the end of training. This makes sense because the network will slightly increase its fit to the training data after each training iteration, so the network will become more and more sensitive to any details that diverges from the training dataset. This is a phenomena known as _overfitting_."
   ]
  }
 ],
 "metadata": {
  "kernelspec": {
   "display_name": "Python 3",
   "language": "python",
   "name": "python3"
  },
  "language_info": {
   "codemirror_mode": {
    "name": "ipython",
    "version": 3
   },
   "file_extension": ".py",
   "mimetype": "text/x-python",
   "name": "python",
   "nbconvert_exporter": "python",
   "pygments_lexer": "ipython3",
   "version": "3.9.5"
  }
 },
 "nbformat": 4,
 "nbformat_minor": 5
}
