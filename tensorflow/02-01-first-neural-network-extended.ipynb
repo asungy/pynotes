{
 "cells": [
  {
   "cell_type": "markdown",
   "id": "be41e20f",
   "metadata": {},
   "source": [
    "# Other Ways To Implement A Network\n",
    "We already learned how to write a simple neural network in Tensorflow. Now we'll learn of the various ways to implement a network and why these methods may be more preferable than others.\n",
    "\n",
    "Let's do a recap of the code written for our first network:"
   ]
  },
  {
   "cell_type": "code",
   "execution_count": 1,
   "id": "0f3a6c3e",
   "metadata": {},
   "outputs": [
    {
     "name": "stdout",
     "output_type": "stream",
     "text": [
      "Epoch 1/5\n",
      "1875/1875 - 2s - loss: 0.1884 - accuracy: 0.9421\n",
      "Epoch 2/5\n",
      "1875/1875 - 3s - loss: 0.0813 - accuracy: 0.9752\n",
      "Epoch 3/5\n",
      "1875/1875 - 3s - loss: 0.0540 - accuracy: 0.9832\n",
      "Epoch 4/5\n",
      "1875/1875 - 2s - loss: 0.0416 - accuracy: 0.9863\n",
      "Epoch 5/5\n",
      "1875/1875 - 2s - loss: 0.0331 - accuracy: 0.9896\n",
      "313/313 - 0s - loss: 0.0871 - accuracy: 0.9745\n"
     ]
    },
    {
     "data": {
      "text/plain": [
       "[0.08705569058656693, 0.9745000004768372]"
      ]
     },
     "execution_count": 1,
     "metadata": {},
     "output_type": "execute_result"
    }
   ],
   "source": [
    "import tensorflow as tf\n",
    "from tensorflow import keras\n",
    "from tensorflow.keras import layers\n",
    "\n",
    "# Load MNIST dataset\n",
    "(training_images, training_labels), (test_images, test_labels) = tf.keras.datasets.mnist.load_data()\n",
    "\n",
    "# Flattening the image data\n",
    "training_images = tf.reshape(training_images, [-1, 28*28])\n",
    "test_images = tf.reshape(test_images, [-1, 28*28])\n",
    "\n",
    "# Normalize image data\n",
    "training_images = tf.dtypes.cast(training_images, tf.float32) / 255.0\n",
    "test_images = tf.dtypes.cast(test_images, tf.float32) / 255.0\n",
    "\n",
    "# Constructing the model\n",
    "model = keras.Sequential([\n",
    "    layers.Dense(512, activation='relu'),\n",
    "    layers.Dense(256, activation='relu'),\n",
    "    layers.Dense(10),\n",
    "])\n",
    "\n",
    "# Compile the model\n",
    "model.compile(\n",
    "    loss=keras.losses.SparseCategoricalCrossentropy(from_logits=True),\n",
    "    optimizer=keras.optimizers.Adam(lr=0.001),\n",
    "    metrics=[\"accuracy\"],\n",
    ")\n",
    "\n",
    "# Train the model\n",
    "model.fit(training_images, training_labels, batch_size=32, epochs=5, verbose=2)\n",
    "\n",
    "# Evaluate model's performance\n",
    "model.evaluate(test_images, test_labels, batch_size=32, verbose=2)"
   ]
  },
  {
   "cell_type": "markdown",
   "id": "b4bf7073",
   "metadata": {},
   "source": [
    "In the example above, we used the `Sequential` model to create a neural network. A `Sequential` model is most appropriate for creating simple networks that only have one input layer and one output layer. With the case for MNIST, our single input layer was the pixel array of an image and our output layer was the confidence values of each digit for that particular image. But this model would not be suitable for a network that, say, wants to identify tumors through image data _and_ other health markers.\n",
    "\n",
    "## Incremental Model Creation\n",
    "Let's explore more of the `Sequential` model. We can access the network layers by calling 'layers' on the model:"
   ]
  },
  {
   "cell_type": "code",
   "execution_count": 2,
   "id": "437cb85b",
   "metadata": {},
   "outputs": [
    {
     "data": {
      "text/plain": [
       "[<tensorflow.python.keras.layers.core.Dense at 0x7efcb73edd60>,\n",
       " <tensorflow.python.keras.layers.core.Dense at 0x7efcb58eb280>,\n",
       " <tensorflow.python.keras.layers.core.Dense at 0x7efcb58eb5b0>]"
      ]
     },
     "execution_count": 2,
     "metadata": {},
     "output_type": "execute_result"
    }
   ],
   "source": [
    "model.layers"
   ]
  },
  {
   "cell_type": "markdown",
   "id": "d9a81b0c",
   "metadata": {},
   "source": [
    "These `Dense` objects are just regular densely-connected neural network layers. For more information, you can look at the documentation [here](https://www.tensorflow.org/api_docs/python/tf/keras/layers/Dense).\n",
    "\n",
    "We originally created the network by adding layers in an array right when we declared the model. But you can also create networks incrementally with the `add()` method:"
   ]
  },
  {
   "cell_type": "code",
   "execution_count": 3,
   "id": "3224c75e",
   "metadata": {},
   "outputs": [],
   "source": [
    "# Creating a neural network incrementally\n",
    "model = keras.Sequential()\n",
    "model.add(layers.Dense(512, activation=\"relu\"))\n",
    "model.add(layers.Dense(256, activation=\"relu\"))\n",
    "model.add(layers.Dense(10))"
   ]
  },
  {
   "cell_type": "markdown",
   "id": "95956e7e",
   "metadata": {},
   "source": [
    "You can also remove layers if needed:"
   ]
  },
  {
   "cell_type": "code",
   "execution_count": 4,
   "id": "17881395",
   "metadata": {},
   "outputs": [
    {
     "name": "stdout",
     "output_type": "stream",
     "text": [
      "Number of layers before: 3\n",
      "Number of layers after: 2\n"
     ]
    }
   ],
   "source": [
    "# Removing a layer from the neural network\n",
    "print(\"Number of layers before:\", len(model.layers))\n",
    "model.pop()\n",
    "print(\"Number of layers after:\", len(model.layers))"
   ]
  },
  {
   "cell_type": "markdown",
   "id": "9f4939e7",
   "metadata": {},
   "source": [
    "It may also be helpful to be able to name your neural network and layers:"
   ]
  },
  {
   "cell_type": "code",
   "execution_count": 5,
   "id": "8886e9b2",
   "metadata": {},
   "outputs": [
    {
     "name": "stdout",
     "output_type": "stream",
     "text": [
      "Model name: MNIST_Neural_Network\n",
      "First layer name: first_layer\n",
      "Second layer name: second_layer\n",
      "Third layer name: output_layer\n"
     ]
    }
   ],
   "source": [
    "# Naming the neural network and its layers\n",
    "model = keras.Sequential(name=\"MNIST_Neural_Network\")\n",
    "model.add(layers.Dense(512, activation=\"relu\", name=\"first_layer\"))\n",
    "model.add(layers.Dense(256, activation=\"relu\", name=\"second_layer\"))\n",
    "model.add(layers.Dense(10, name=\"output_layer\"))\n",
    "\n",
    "# Printing naming information\n",
    "print(\"Model name:\", model.name)\n",
    "print(\"First layer name:\", model.layers[0].name)\n",
    "print(\"Second layer name:\", model.layers[1].name)\n",
    "print(\"Third layer name:\", model.layers[2].name)"
   ]
  },
  {
   "cell_type": "markdown",
   "id": "1bf6c450",
   "metadata": {},
   "source": [
    "## Model Debugging\n",
    "When building a new Sequential architecture, its helpful to be able to print out summaries of the model as you develop. \n",
    "\n",
    "Let's start building a model from scratch and observe how to model summary changes as we continue to stack layers in the model:"
   ]
  },
  {
   "cell_type": "code",
   "execution_count": 6,
   "id": "7ecd8dbd",
   "metadata": {},
   "outputs": [
    {
     "name": "stdout",
     "output_type": "stream",
     "text": [
      "Model: \"Some_Neural_Network\"\n",
      "_________________________________________________________________\n",
      "Layer (type)                 Output Shape              Param #   \n",
      "=================================================================\n",
      "Total params: 0\n",
      "Trainable params: 0\n",
      "Non-trainable params: 0\n",
      "_________________________________________________________________\n"
     ]
    }
   ],
   "source": [
    "# Defining the model and adding an input layer\n",
    "model = keras.Sequential(name=\"Some_Neural_Network\")\n",
    "model.add(keras.Input(shape=(250, 250, 3), name=\"input_layer\"))\n",
    "\n",
    "# Print summary\n",
    "model.summary()"
   ]
  },
  {
   "cell_type": "markdown",
   "id": "ccd66cb9",
   "metadata": {},
   "source": [
    "This network may be one that takes in a 250x250 RGB image. Right now, our summaries don't really give us insight as to what this model is. Let's add another layer and print the summary again:"
   ]
  },
  {
   "cell_type": "code",
   "execution_count": 7,
   "id": "c7454020",
   "metadata": {},
   "outputs": [
    {
     "name": "stdout",
     "output_type": "stream",
     "text": [
      "Model: \"Some_Neural_Network\"\n",
      "_________________________________________________________________\n",
      "Layer (type)                 Output Shape              Param #   \n",
      "=================================================================\n",
      "second_layer (Dense)         (None, 250, 250, 32)      128       \n",
      "=================================================================\n",
      "Total params: 128\n",
      "Trainable params: 128\n",
      "Non-trainable params: 0\n",
      "_________________________________________________________________\n"
     ]
    }
   ],
   "source": [
    "# Adding a second layer to the model\n",
    "model.add(layers.Dense(32, activation='relu', name=\"second_layer\"))\n",
    "\n",
    "# Print summary\n",
    "model.summary()"
   ]
  },
  {
   "cell_type": "code",
   "execution_count": 8,
   "id": "a3c6b521",
   "metadata": {},
   "outputs": [
    {
     "name": "stdout",
     "output_type": "stream",
     "text": [
      "Model: \"sequential_2\"\n",
      "_________________________________________________________________\n",
      "Layer (type)                 Output Shape              Param #   \n",
      "=================================================================\n",
      "second_layer (Dense)         (None, 250, 250, 3)       12        \n",
      "=================================================================\n",
      "Total params: 12\n",
      "Trainable params: 12\n",
      "Non-trainable params: 0\n",
      "_________________________________________________________________\n"
     ]
    }
   ],
   "source": [
    "# TODO: Delete this. Sandboxing\n",
    "# Trying to figure out how the parameter number is calculated\n",
    "# Reference: https://towardsdatascience.com/how-to-calculate-the-number-of-parameters-in-keras-models-710683dae0ca\n",
    "model = keras.Sequential()\n",
    "model.add(keras.Input(shape=(250, 250, 3), name=\"input_layer\"))\n",
    "model.add(layers.Dense(3, activation='relu', name=\"second_layer\"))\n",
    "\n",
    "# Print summary\n",
    "model.summary()"
   ]
  }
 ],
 "metadata": {
  "kernelspec": {
   "display_name": "Python 3",
   "language": "python",
   "name": "python3"
  },
  "language_info": {
   "codemirror_mode": {
    "name": "ipython",
    "version": 3
   },
   "file_extension": ".py",
   "mimetype": "text/x-python",
   "name": "python",
   "nbconvert_exporter": "python",
   "pygments_lexer": "ipython3",
   "version": "3.9.5"
  }
 },
 "nbformat": 4,
 "nbformat_minor": 5
}
